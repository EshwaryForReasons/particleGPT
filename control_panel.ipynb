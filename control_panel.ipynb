{
 "cells": [
  {
   "cell_type": "markdown",
   "metadata": {},
   "source": [
    "#### The control panel allows training and sampling data easily in a streamlined environment."
   ]
  },
  {
   "cell_type": "markdown",
   "metadata": {},
   "source": [
    "#### Setup\n",
    "\n",
    "- Make sure to run this cell!!!\n",
    "- Update config_filename with the filename of the config file without the .json portion."
   ]
  },
  {
   "cell_type": "code",
   "execution_count": null,
   "metadata": {},
   "outputs": [],
   "source": [
    "import subprocess\n",
    "import sys\n",
    "import os\n",
    "\n",
    "def execute_script(script_name):\n",
    "    res = subprocess.run([sys.executable, script_name, f\"config/{config_filename}.json\"], capture_output=True, text=True)\n",
    "    print(res.stderr, res.stdout)\n",
    "\n",
    "config_filename = \"small_test_retokenized\""
   ]
  },
  {
   "cell_type": "markdown",
   "metadata": {},
   "source": [
    "#### Training"
   ]
  },
  {
   "cell_type": "code",
   "execution_count": null,
   "metadata": {},
   "outputs": [],
   "source": [
    "execute_script('train.py')"
   ]
  },
  {
   "cell_type": "markdown",
   "metadata": {},
   "source": [
    "#### Sampling"
   ]
  },
  {
   "cell_type": "code",
   "execution_count": 5,
   "metadata": {},
   "outputs": [
    {
     "name": "stdout",
     "output_type": "stream",
     "text": [
      "Traceback (most recent call last):\n",
      "  File \"/global/common/software/nersc9/pytorch/2.3.1/lib/python3.11/logging/config.py\", line 573, in configure\n",
      "    handler = self.configure_handler(handlers[name])\n",
      "              ^^^^^^^^^^^^^^^^^^^^^^^^^^^^^^^^^^^^^^\n",
      "  File \"/global/common/software/nersc9/pytorch/2.3.1/lib/python3.11/logging/config.py\", line 757, in configure_handler\n",
      "    result = factory(**kwargs)\n",
      "             ^^^^^^^^^^^^^^^^^\n",
      "  File \"/global/common/software/nersc9/pytorch/2.3.1/lib/python3.11/logging/handlers.py\", line 155, in __init__\n",
      "    BaseRotatingHandler.__init__(self, filename, mode, encoding=encoding,\n",
      "  File \"/global/common/software/nersc9/pytorch/2.3.1/lib/python3.11/logging/handlers.py\", line 58, in __init__\n",
      "    logging.FileHandler.__init__(self, filename, mode=mode,\n",
      "  File \"/global/common/software/nersc9/pytorch/2.3.1/lib/python3.11/logging/__init__.py\", line 1181, in __init__\n",
      "    StreamHandler.__init__(self, self._open())\n",
      "                                 ^^^^^^^^^^^^\n",
      "  File \"/global/common/software/nersc9/pytorch/2.3.1/lib/python3.11/logging/__init__.py\", line 1213, in _open\n",
      "    return open_func(self.baseFilename, self.mode,\n",
      "           ^^^^^^^^^^^^^^^^^^^^^^^^^^^^^^^^^^^^^^^\n",
      "FileNotFoundError: [Errno 2] No such file or directory: '/global/u1/e/eshy/hadron_collisions/particleGPT/logs/particleGPT.jsonl'\n",
      "\n",
      "The above exception was the direct cause of the following exception:\n",
      "\n",
      "Traceback (most recent call last):\n",
      "  File \"/global/u1/e/eshy/hadron_collisions/particleGPT/sample.py\", line 9, in <module>\n",
      "    import model\n",
      "  File \"/global/u1/e/eshy/hadron_collisions/particleGPT/model.py\", line 18, in <module>\n",
      "    import pLogging\n",
      "  File \"/global/u1/e/eshy/hadron_collisions/particleGPT/pLogging.py\", line 127, in <module>\n",
      "    setup_logging()\n",
      "  File \"/global/u1/e/eshy/hadron_collisions/particleGPT/pLogging.py\", line 110, in setup_logging\n",
      "    update_config(None)\n",
      "  File \"/global/u1/e/eshy/hadron_collisions/particleGPT/pLogging.py\", line 101, in update_config\n",
      "    logging.config.dictConfig(config)\n",
      "  File \"/global/common/software/nersc9/pytorch/2.3.1/lib/python3.11/logging/config.py\", line 823, in dictConfig\n",
      "    dictConfigClass(config).configure()\n",
      "  File \"/global/common/software/nersc9/pytorch/2.3.1/lib/python3.11/logging/config.py\", line 580, in configure\n",
      "    raise ValueError('Unable to configure handler '\n",
      "ValueError: Unable to configure handler 'file'\n",
      " \n"
     ]
    }
   ],
   "source": [
    "execute_script('sample.py')"
   ]
  },
  {
   "cell_type": "code",
   "execution_count": null,
   "metadata": {},
   "outputs": [],
   "source": [
    "execute_script('data/small_test_end_fix_a/generate_distribution.py')"
   ]
  }
 ],
 "metadata": {
  "kernelspec": {
   "display_name": "vscode_torch",
   "language": "python",
   "name": "vscode_torch"
  },
  "language_info": {
   "codemirror_mode": {
    "name": "ipython",
    "version": 3
   },
   "file_extension": ".py",
   "mimetype": "text/x-python",
   "name": "python",
   "nbconvert_exporter": "python",
   "pygments_lexer": "ipython3",
   "version": "3.11.9"
  }
 },
 "nbformat": 4,
 "nbformat_minor": 2
}
