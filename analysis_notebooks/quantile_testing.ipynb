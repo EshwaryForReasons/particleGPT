{
 "cells": [
  {
   "cell_type": "markdown",
   "id": "1624ba4c",
   "metadata": {},
   "source": [
    "## <span style=\"color:#db7d60\">Setup</span>"
   ]
  },
  {
   "cell_type": "code",
   "execution_count": 1,
   "id": "3974c8e1",
   "metadata": {},
   "outputs": [
    {
     "name": "stderr",
     "output_type": "stream",
     "text": [
      "/global/homes/e/eshy/.local/lib/python3.11/site-packages/coffea/nanoevents/schemas/fcc.py:5: FutureWarning: In version 2025.1.0 (target date: 2024-12-31 11:59:59-06:00), this will be an error.\n",
      "To raise these warnings as errors (and get stack traces to find out where they're called), run\n",
      "    import warnings\n",
      "    warnings.filterwarnings(\"error\", module=\"coffea.*\")\n",
      "after the first `import coffea` or use `@pytest.mark.filterwarnings(\"error:::coffea.*\")` in pytest.\n",
      "Issue: coffea.nanoevents.methods.vector will be removed and replaced with scikit-hep vector. Nanoevents schemas internal to coffea will be migrated. Otherwise please consider using that package!.\n",
      "  from coffea.nanoevents.methods import vector\n"
     ]
    }
   ],
   "source": [
    "%load_ext autoreload\n",
    "%autoreload 2\n",
    "\n",
    "import json\n",
    "import math\n",
    "import pickle\n",
    "import numpy as np\n",
    "import pandas as pd\n",
    "import textwrap\n",
    "import sys\n",
    "from pathlib import Path\n",
    "from IPython.display import display, Markdown\n",
    "import matplotlib.pyplot as plt\n",
    "\n",
    "# pUtil needs to be loaded from the root directory\n",
    "parent_dir = Path().resolve().parent\n",
    "sys.path.insert(0, str(parent_dir))\n",
    "\n",
    "import pUtil\n",
    "from analysis_common import *\n",
    "import data_manager\n",
    "import analysis as anal\n",
    "\n",
    "import vector\n",
    "from particle import Particle\n",
    "from particle import PDGID\n",
    "\n",
    "plt.rcParams['figure.figsize'] = (21, 6)\n",
    "\n",
    "pd.set_option('display.max_rows', None)\n",
    "pd.set_option('display.max_columns', None)\n",
    "pd.set_option('display.max_colwidth', None)\n",
    "pd.set_option('display.expand_frame_repr', False)"
   ]
  },
  {
   "cell_type": "markdown",
   "id": "583fb60d",
   "metadata": {},
   "source": [
    "## <span style=\"color:#db7d60\">Analysis</span>"
   ]
  },
  {
   "cell_type": "code",
   "execution_count": null,
   "id": "13af4442",
   "metadata": {},
   "outputs": [],
   "source": [
    "input_data_filepath = parent_dir / 'generated_samples' / 'model_5_10_2' / 'generated_samples.csv'\n",
    "\n",
    "data = []\n",
    "with open(input_data_filepath, 'r') as in_file:\n",
    "    for idx, event_str in enumerate(in_file):\n",
    "        event = list(map(float, (feature_str for particle_str in event_str.strip().split(';') for feature_str in particle_str.split())))\n",
    "        event.append(data)\n",
    "\n"
   ]
  }
 ],
 "metadata": {
  "kernelspec": {
   "display_name": "Python 3",
   "language": "python",
   "name": "python3"
  },
  "language_info": {
   "codemirror_mode": {
    "name": "ipython",
    "version": 3
   },
   "file_extension": ".py",
   "mimetype": "text/x-python",
   "name": "python",
   "nbconvert_exporter": "python",
   "pygments_lexer": "ipython3",
   "version": "3.11.9"
  }
 },
 "nbformat": 4,
 "nbformat_minor": 5
}
