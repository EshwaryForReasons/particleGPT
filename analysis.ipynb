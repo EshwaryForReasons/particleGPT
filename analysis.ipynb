{
 "cells": [
  {
   "cell_type": "markdown",
   "metadata": {},
   "source": [
    "##### Show training graph"
   ]
  },
  {
   "cell_type": "code",
   "execution_count": null,
   "metadata": {},
   "outputs": [],
   "source": [
    "import matplotlib.pyplot as plt\n",
    "import json\n",
    "import os\n",
    "import pUtil\n",
    "import glob\n",
    "\n",
    "train_model = 'dataset_4_2_1'\n",
    "train_model_dir = pUtil.get_training_dir(train_model)\n",
    "training_log_files = glob.glob(os.path.join(train_model_dir, \"*.jsonl\"))\n",
    "\n",
    "train_data = []\n",
    "for file in training_log_files:\n",
    "    with open(file, 'r') as data_file:\n",
    "        for line in data_file:\n",
    "            jdata = json.loads(line)\n",
    "            if jdata['message'] == \"Training progress\" and 'iter' in jdata:\n",
    "                train_data.append([jdata['iter'], jdata['train_loss'], jdata['val_loss']])\n",
    "\n",
    "x, train_loss, val_loss = zip(*train_data)\n",
    "\n",
    "plt.figure(figsize=(15, 6))\n",
    "plt.plot(x, train_loss, label='Training Loss')\n",
    "plt.plot(x, val_loss, label='Validation Loss')\n",
    "plt.title(f'Training Progress {os.path.basename(train_model)}')\n",
    "plt.xlabel('Iteration')\n",
    "plt.ylabel('Loss')\n",
    "plt.legend()\n",
    "plt.grid(axis=\"y\", linestyle=\"--\", alpha=0.7)\n",
    "plt.show()"
   ]
  },
  {
   "cell_type": "markdown",
   "metadata": {},
   "source": [
    "##### Show distributions"
   ]
  },
  {
   "cell_type": "code",
   "execution_count": null,
   "metadata": {},
   "outputs": [],
   "source": [
    "from IPython.display import Image, display\n",
    "import os\n",
    "import pUtil\n",
    "\n",
    "output_dir_name = 'dataset_2_2_1'\n",
    "latest_folder = pUtil.get_latest_sampling_dir(output_dir_name)\n",
    "display(Image(filename=os.path.join(latest_folder, 'histogram_e.png')))\n",
    "display(Image(filename=os.path.join(latest_folder, 'histogram_num_particles.png')))\n",
    "display(Image(filename=os.path.join(latest_folder, 'histogram_px.png')))\n",
    "display(Image(filename=os.path.join(latest_folder, 'histogram_py.png')))\n",
    "display(Image(filename=os.path.join(latest_folder, 'histogram_pz.png')))"
   ]
  }
 ],
 "metadata": {
  "kernelspec": {
   "display_name": "Python 3",
   "language": "python",
   "name": "python3"
  },
  "language_info": {
   "codemirror_mode": {
    "name": "ipython",
    "version": 3
   },
   "file_extension": ".py",
   "mimetype": "text/x-python",
   "name": "python",
   "nbconvert_exporter": "python",
   "pygments_lexer": "ipython3",
   "version": "3.11.9"
  }
 },
 "nbformat": 4,
 "nbformat_minor": 2
}
